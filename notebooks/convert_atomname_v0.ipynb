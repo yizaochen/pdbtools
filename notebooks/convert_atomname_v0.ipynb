{
 "cells": [
  {
   "cell_type": "code",
   "execution_count": 6,
   "id": "057350a6-cc34-468d-8a49-0360ebf472a7",
   "metadata": {},
   "outputs": [],
   "source": [
    "from os import path\n",
    "from pdbtools.pdbtools import AtomnameAgent"
   ]
  },
  {
   "cell_type": "markdown",
   "id": "5db43c2d-aa6d-4f52-b4e7-5c074e4a8fdb",
   "metadata": {},
   "source": [
    "### Part 1: Set AtomnameMap and ResnameMap"
   ]
  },
  {
   "cell_type": "code",
   "execution_count": 7,
   "id": "2ff56b62-1039-48da-9e1c-cfe9c88072d8",
   "metadata": {},
   "outputs": [],
   "source": [
    "# key is old name, value is target name\n",
    "\n",
    "resname_map = {'GLY': 'GLY'} "
   ]
  },
  {
   "cell_type": "code",
   "execution_count": 14,
   "id": "5647ab2d-4477-4d20-baaf-b42e4b30ad22",
   "metadata": {},
   "outputs": [],
   "source": [
    "# the first level key is old resname, \n",
    "atomname_map = {'GLY': {'N': 'N', 'H': 'HN', 'CA': 'CA', 'HA2': 'HA1', 'HA3': 'HA2', 'C': 'C', 'O': 'O'}\n",
    "               }"
   ]
  },
  {
   "cell_type": "markdown",
   "id": "d9b4ca32-eae6-425d-9bbc-e19488cd1dd1",
   "metadata": {},
   "source": [
    "### Part 2: Convert"
   ]
  },
  {
   "cell_type": "code",
   "execution_count": 15,
   "id": "533e300e-9704-400d-9a37-cb23213ce6fe",
   "metadata": {},
   "outputs": [
    {
     "name": "stdout",
     "output_type": "stream",
     "text": [
      "Check skip_header and skip_footer by ...\n",
      "vim ../example_pdbs/example1.pdb\n"
     ]
    }
   ],
   "source": [
    "pdb_in = path.join('..', 'example_pdbs', 'example1.pdb')\n",
    "pdb_out = path.join('..', 'example_pdbs', 'example1.out.pdb')\n",
    "\n",
    "a_agent = AtomnameAgent(pdb_in, pdb_out, resname_map, atomname_map)\n",
    "a_agent.check_pdbin_header_footer()"
   ]
  },
  {
   "cell_type": "code",
   "execution_count": 16,
   "id": "f8a6b35b-a3de-4458-9e32-af33244f9dd8",
   "metadata": {},
   "outputs": [
    {
     "name": "stdout",
     "output_type": "stream",
     "text": [
      "cp ../example_pdbs/example1.pdb ./temp.pdb\n",
      "Write PDB: ../example_pdbs/example1.out.pdb\n",
      "Reset ../example_pdbs/example1.out.pdb!\n",
      "Check by...\n",
      "vim ../example_pdbs/example1.out.pdb\n",
      "rm ./temp.pdb\n"
     ]
    }
   ],
   "source": [
    "skip_header = 1\n",
    "skip_footer = 1\n",
    " \n",
    "a_agent.convert_resname_atomname(skip_header, skip_footer)"
   ]
  },
  {
   "cell_type": "code",
   "execution_count": null,
   "id": "fcd9d5f4-4e14-4912-8178-a7b5c4aa6195",
   "metadata": {},
   "outputs": [],
   "source": []
  }
 ],
 "metadata": {
  "kernelspec": {
   "display_name": "Python 3 (ipykernel)",
   "language": "python",
   "name": "python3"
  },
  "language_info": {
   "codemirror_mode": {
    "name": "ipython",
    "version": 3
   },
   "file_extension": ".py",
   "mimetype": "text/x-python",
   "name": "python",
   "nbconvert_exporter": "python",
   "pygments_lexer": "ipython3",
   "version": "3.8.10"
  }
 },
 "nbformat": 4,
 "nbformat_minor": 5
}
